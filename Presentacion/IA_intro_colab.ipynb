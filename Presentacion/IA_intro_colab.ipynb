{
 "cells": [
  {
   "cell_type": "markdown",
   "id": "4b601f06",
   "metadata": {},
   "source": [
    "# IA: Introducción práctica (Visión + ML)\n",
    "\n",
    "Este cuaderno está diseñado para **nivel inicial**: poca matemática y poca programación.\n",
    "Trabajaremos con ejemplos sencillos y visuales."
   ]
  },
  {
   "cell_type": "markdown",
   "id": "59d08299",
   "metadata": {},
   "source": [
    "## 0) Requisitos\n",
    "- Este notebook funciona con librerías estándar: `numpy`, `matplotlib`, `scikit-learn`, `Pillow`.\n",
    "- En Google Colab, ya vienen instaladas. Si usas local, instala con:\n",
    "```bash\n",
    "pip install numpy matplotlib scikit-learn pillow\n",
    "```"
   ]
  },
  {
   "cell_type": "markdown",
   "id": "28760ae4",
   "metadata": {},
   "source": [
    "## 1) Cargar y mostrar una imagen\n",
    "**Idea clave:** una imagen es una matriz de números.\n",
    "Probemos con una imagen de ejemplo."
   ]
  },
  {
   "cell_type": "code",
   "execution_count": null,
   "id": "ad6cd41b",
   "metadata": {},
   "outputs": [],
   "source": [
    "from PIL import Image\n",
    "import numpy as np\n",
    "import matplotlib.pyplot as plt\n",
    "\n",
    "img = Image.open('/mnt/data/muestra.png')  # cambia la ruta si estás en Colab\n",
    "arr = np.array(img)\n",
    "print('Forma de la imagen (alto, ancho):', arr.shape)\n",
    "plt.imshow(arr, cmap='gray')\n",
    "plt.title('Imagen de ejemplo (grises)')\n",
    "plt.axis('off')\n",
    "plt.show()"
   ]
  },
  {
   "cell_type": "markdown",
   "id": "912029fd",
   "metadata": {},
   "source": [
    "## 2) Operaciones básicas de imagen\n",
    "- Brillo: sumar/restar un valor.\n",
    "- Contraste: multiplicar por un factor.\n",
    "- Blanco y negro: umbral simple."
   ]
  },
  {
   "cell_type": "code",
   "execution_count": null,
   "id": "19b5fc84",
   "metadata": {},
   "outputs": [],
   "source": [
    "import numpy as np\n",
    "import matplotlib.pyplot as plt\n",
    "\n",
    "def clip01(x):\n",
    "    return np.clip(x, 0, 255)\n",
    "\n",
    "# Brillo (+40)\n",
    "brillo = clip01(arr.astype(float) + 40)\n",
    "# Contraste (*1.3)\n",
    "contraste = clip01((arr.astype(float) - 127.5) * 1.3 + 127.5)\n",
    "# Umbral (blanco y negro)\n",
    "umbral = (arr > 128).astype(np.uint8) * 255\n",
    "\n",
    "fig, axs = plt.subplots(1, 3, figsize=(10,3))\n",
    "axs[0].imshow(brillo, cmap='gray'); axs[0].set_title('Más brillo'); axs[0].axis('off')\n",
    "axs[1].imshow(contraste, cmap='gray'); axs[1].set_title('Más contraste'); axs[1].axis('off')\n",
    "axs[2].imshow(umbral, cmap='gray'); axs[2].set_title('Umbral (B/N)'); axs[2].axis('off')\n",
    "plt.show()"
   ]
  },
  {
   "cell_type": "markdown",
   "id": "1a4e1613",
   "metadata": {},
   "source": [
    "## 3) Machine Learning básico (clasificación)\n",
    "Usaremos el dataset `digits` de `scikit-learn` (imágenes 8×8 de dígitos). Entrenaremos un modelo sencillo y evaluaremos su rendimiento.\n",
    "**Objetivo:** entender el flujo *datos → modelo → predicciones → métricas*."
   ]
  },
  {
   "cell_type": "code",
   "execution_count": null,
   "id": "4bece517",
   "metadata": {},
   "outputs": [],
   "source": [
    "from sklearn.datasets import load_digits\n",
    "from sklearn.model_selection import train_test_split\n",
    "from sklearn.linear_model import LogisticRegression\n",
    "from sklearn.metrics import classification_report, confusion_matrix\n",
    "import matplotlib.pyplot as plt\n",
    "import numpy as np\n",
    "\n",
    "digits = load_digits()\n",
    "X = digits.data  # cada imagen 8x8 a vector de 64\n",
    "y = digits.target\n",
    "\n",
    "X_train, X_test, y_train, y_test = train_test_split(X, y, test_size=0.25, random_state=0)\n",
    "\n",
    "model = LogisticRegression(max_iter=500)\n",
    "model.fit(X_train, y_train)\n",
    "y_pred = model.predict(X_test)\n",
    "\n",
    "print('Reporte de clasificación:')\n",
    "print(classification_report(y_test, y_pred))\n",
    "\n",
    "cm = confusion_matrix(y_test, y_pred)\n",
    "plt.figure(figsize=(4,4))\n",
    "plt.imshow(cm)\n",
    "plt.title('Matriz de confusión')\n",
    "plt.xlabel('Predicción')\n",
    "plt.ylabel('Real')\n",
    "plt.colorbar()\n",
    "plt.show()\n",
    "\n",
    "# Mostrar algunas predicciones\n",
    "fig, axes = plt.subplots(2,5, figsize=(8,3))\n",
    "for ax, img, pred, true in zip(axes.ravel(), X_test[:10], y_pred[:10], y_test[:10]):\n",
    "    ax.imshow(img.reshape(8,8))\n",
    "    ax.set_title(f'{true}→{pred}')\n",
    "    ax.axis('off')\n",
    "plt.tight_layout(); plt.show()"
   ]
  },
  {
   "cell_type": "markdown",
   "id": "96c5e88d",
   "metadata": {},
   "source": [
    "## 4) Red neuronal simple (MLP)\n",
    "Entrenamos una red pequeña usando `MLPClassifier`."
   ]
  },
  {
   "cell_type": "code",
   "execution_count": null,
   "id": "9ee08028",
   "metadata": {},
   "outputs": [],
   "source": [
    "from sklearn.neural_network import MLPClassifier\n",
    "from sklearn.metrics import accuracy_score\n",
    "\n",
    "mlp = MLPClassifier(hidden_layer_sizes=(64,), activation='relu', max_iter=300, random_state=0)\n",
    "mlp.fit(X_train, y_train)\n",
    "pred_mlp = mlp.predict(X_test)\n",
    "print('Accuracy MLP:', accuracy_score(y_test, pred_mlp))"
   ]
  },
  {
   "cell_type": "markdown",
   "id": "80e84ce3",
   "metadata": {},
   "source": [
    "## 5) Mini-proyecto guiado\n",
    "**Meta:** clasificar imágenes de dos clases (por ejemplo, \"pieza OK\" vs \"pieza con defecto\").\n",
    "\n",
    "Pasos sugeridos:\n",
    "1. **Cargar datos:** dos carpetas con imágenes (ok/defecto).\n",
    "2. **Preprocesar:** redimensionar y convertir a escala de grises.\n",
    "3. **Extraer características simples:** aplanado o promedios por bloques.\n",
    "4. **Entrenar un modelo:** `LogisticRegression` o `MLPClassifier`.\n",
    "5. **Evaluar:** accuracy, matriz de confusión, ejemplos fallidos.\n",
    "\n",
    "Rellenar las celdas siguientes con vuestro código."
   ]
  },
  {
   "cell_type": "code",
   "execution_count": null,
   "id": "0b385541",
   "metadata": {},
   "outputs": [],
   "source": [
    "# TODO: 1) Cargar vuestras imágenes desde Google Drive o local\n",
    "# Sugerencia: usar pathlib y PIL.Image.open\n",
    "from pathlib import Path\n",
    "from PIL import Image\n",
    "import numpy as np\n",
    "\n",
    "def cargar_carpeta(carpeta, size=(32,32)):\n",
    "    X, y = [], []\n",
    "    for etiqueta, sub in enumerate(['ok', 'defecto']):\n",
    "        for ruta in Path(carpeta, sub).glob('*.png'):\n",
    "            im = Image.open(ruta).convert('L').resize(size)\n",
    "            X.append(np.array(im).astype('float32').reshape(-1))\n",
    "            y.append(etiqueta)\n",
    "    return np.array(X), np.array(y)\n",
    "\n",
    "# carpeta = '/content/drive/MyDrive/datos_piezas'  # ejemplo en Colab\n",
    "# Xp, yp = cargar_carpeta(carpeta)\n",
    "# print(Xp.shape, yp.shape)"
   ]
  },
  {
   "cell_type": "code",
   "execution_count": null,
   "id": "2da2a79b",
   "metadata": {},
   "outputs": [],
   "source": [
    "# TODO: 2) Entrenar y evaluar vuestro modelo en las imágenes del proyecto\n",
    "# from sklearn.model_selection import train_test_split\n",
    "# from sklearn.linear_model import LogisticRegression\n",
    "# from sklearn.metrics import accuracy_score, confusion_matrix\n",
    "\n",
    "# Xtr, Xte, ytr, yte = train_test_split(Xp, yp, test_size=0.25, random_state=0)\n",
    "# clf = LogisticRegression(max_iter=300)\n",
    "# clf.fit(Xtr, ytr)\n",
    "# yhat = clf.predict(Xte)\n",
    "# print('Accuracy:', accuracy_score(yte, yhat))"
   ]
  },
  {
   "cell_type": "markdown",
   "id": "697baf35",
   "metadata": {},
   "source": [
    "## 6) Cierre\n",
    "- Has visto imágenes como matrices y operaciones básicas.\n",
    "- Has entrenado dos modelos sencillos (logístico y MLP) en un dataset pequeño.\n",
    "- Tienes una plantilla de proyecto para aplicar a tus propias imágenes.\n",
    "\n",
    "**Consejo:** empieza con pocos datos y modelos simples. La claridad primero."
   ]
  },
  {
   "cell_type": "markdown",
   "id": "7369be32",
   "metadata": {},
   "source": [
    "## Rúbrica de evaluación (proyecto)\n",
    "\n",
    "| Criterio | Excelente (A) | Notable (B) | Aprobado (C) | Insuficiente (D) |\n",
    "|---|---|---|---|---|\n",
    "| **Comprensión del problema (20%)** | Problema bien definido, objetivos claros y medibles | Problema definido; objetivos parcialmente claros | Problema descrito de forma básica | Problema/confusión sin objetivos |\n",
    "| **Metodología y proceso (30%)** | Pipeline reproducible, justificado y ordenado | Pipeline correcto con pequeñas lagunas | Pipeline funcional pero desordenado | Faltan pasos clave o no es reproducible |\n",
    "| **Resultados y métricas (30%)** | Métricas adecuadas, análisis de errores y discusión | Métricas correctas, análisis limitado | Métricas básicas, sin análisis | Métricas inapropiadas o ausentes |\n",
    "| **Comunicación y trabajo (20%)** | Informe claro, visualizaciones adecuadas, buen trabajo en equipo | Informe correcto, visualizaciones suficientes | Informe escueto, visualizaciones mínimas | Informe deficiente, sin colaboración |\n",
    "\n",
    "**Entrega mínima**: código + README + requisitos + informe corto (2–4 páginas) con figuras y conclusiones.\n"
   ]
  }
 ],
 "metadata": {
  "colab": {
   "name": "IA_Introduccion_Practicas.ipynb",
   "provenance": []
  },
  "kernelspec": {
   "display_name": "Python 3",
   "language": "python",
   "name": "python3"
  }
 },
 "nbformat": 4,
 "nbformat_minor": 5
}
