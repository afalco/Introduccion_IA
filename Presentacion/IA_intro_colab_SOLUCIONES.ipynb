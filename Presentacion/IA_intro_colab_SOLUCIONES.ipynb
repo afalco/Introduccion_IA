{
 "cells": [
  {
   "cell_type": "markdown",
   "id": "0a195aa2",
   "metadata": {},
   "source": [
    "# IA: Introducción práctica — **SOLUCIONES**\n",
    "\n",
    "Versión con celdas resueltas y comentarios para el docente/alumno.\n",
    "Cumple con: *gráficas con Matplotlib, una figura por celda, sin estilos/colores forzados.*\n",
    "\n",
    "> **Versión para estudiantes (enunciados):** [IA_intro_colab.ipynb](/mnt/data/IA_intro_colab.ipynb)\n"
   ]
  },
  {
   "cell_type": "markdown",
   "id": "b4f1ce09",
   "metadata": {},
   "source": [
    "## 0) Requisitos\n",
    "- `numpy`, `matplotlib`, `scikit-learn`, `Pillow`.\n",
    "- En Colab vienen preinstaladas.\n",
    "\n",
    "**Opcional (Colab):**\n",
    "```python\n",
    "from google.colab import drive\n",
    "drive.mount('/content/drive')\n",
    "```"
   ]
  },
  {
   "cell_type": "markdown",
   "id": "ec7bb79a",
   "metadata": {},
   "source": [
    "## 1) Cargar y mostrar una imagen (solución)\n",
    "**Idea clave:** una imagen es una matriz de números."
   ]
  },
  {
   "cell_type": "code",
   "execution_count": null,
   "id": "f0b175d5",
   "metadata": {},
   "outputs": [],
   "source": [
    "from PIL import Image\n",
    "import numpy as np\n",
    "import matplotlib.pyplot as plt\n",
    "\n",
    "# Ruta local creada en el entorno de práctica; cambia la ruta si estás en Colab\n",
    "ruta = '/mnt/data/muestra.png'\n",
    "try:\n",
    "    img = Image.open(ruta)\n",
    "except FileNotFoundError:\n",
    "    # Crear una imagen simple si no existe (gradient + cuadro)\n",
    "    import numpy as np\n",
    "    from PIL import Image, ImageDraw\n",
    "    arr = np.tile(np.linspace(0, 255, 128, dtype=np.uint8), (128, 1))\n",
    "    img = Image.fromarray(arr)\n",
    "    d = ImageDraw.Draw(img)\n",
    "    d.rectangle([32,32,96,96], outline=255, width=2)\n",
    "    img.save(ruta)\n",
    "\n",
    "arr = np.array(img)\n",
    "print('Forma (alto, ancho):', arr.shape)\n",
    "plt.imshow(arr)\n",
    "plt.title('Imagen de ejemplo (sin colormap explícito)')\n",
    "plt.axis('off')\n",
    "plt.show()"
   ]
  },
  {
   "cell_type": "markdown",
   "id": "6f4d5fa3",
   "metadata": {},
   "source": [
    "## 2) Operaciones básicas (solución)\n",
    "- Brillo = sumar una constante.\n",
    "- Contraste = escalar alrededor del valor medio.\n",
    "- Umbral = 0/255 según un límite."
   ]
  },
  {
   "cell_type": "code",
   "execution_count": null,
   "id": "62d88736",
   "metadata": {},
   "outputs": [],
   "source": [
    "import numpy as np\n",
    "import matplotlib.pyplot as plt\n",
    "\n",
    "def clip01(x):\n",
    "    return np.clip(x, 0, 255)\n",
    "\n",
    "x = arr.astype(float)\n",
    "brillo = clip01(x + 40)\n",
    "contraste = clip01((x - 127.5) * 1.3 + 127.5)\n",
    "umbral = (x > 128).astype(np.uint8) * 255\n",
    "\n",
    "# Mostrar una figura por celda (regla de estilo)\n",
    "plt.imshow(brillo)\n",
    "plt.title('Más brillo')\n",
    "plt.axis('off')\n",
    "plt.show()\n",
    "\n",
    "plt.imshow(contraste)\n",
    "plt.title('Más contraste')\n",
    "plt.axis('off')\n",
    "plt.show()\n",
    "\n",
    "plt.imshow(umbral)\n",
    "plt.title('Umbral (B/N)')\n",
    "plt.axis('off')\n",
    "plt.show()"
   ]
  },
  {
   "cell_type": "markdown",
   "id": "a09ec08e",
   "metadata": {},
   "source": [
    "## 3) ML básico: clasificación con `digits` (solución)\n",
    "Flujo: datos → entrenamiento → predicción → métricas."
   ]
  },
  {
   "cell_type": "code",
   "execution_count": null,
   "id": "d720e3ff",
   "metadata": {},
   "outputs": [],
   "source": [
    "from sklearn.datasets import load_digits\n",
    "from sklearn.model_selection import train_test_split\n",
    "from sklearn.linear_model import LogisticRegression\n",
    "from sklearn.metrics import classification_report, confusion_matrix\n",
    "import matplotlib.pyplot as plt\n",
    "import numpy as np\n",
    "\n",
    "digits = load_digits()\n",
    "X = digits.data\n",
    "y = digits.target\n",
    "\n",
    "X_train, X_test, y_train, y_test = train_test_split(X, y, test_size=0.25, random_state=0)\n",
    "\n",
    "model = LogisticRegression(max_iter=500)\n",
    "model.fit(X_train, y_train)\n",
    "y_pred = model.predict(X_test)\n",
    "\n",
    "print('Reporte de clasificación:')\n",
    "print(classification_report(y_test, y_pred))\n",
    "\n",
    "cm = confusion_matrix(y_test, y_pred)\n",
    "plt.figure()\n",
    "plt.imshow(cm)\n",
    "plt.title('Matriz de confusión')\n",
    "plt.xlabel('Predicción')\n",
    "plt.ylabel('Real')\n",
    "plt.colorbar()\n",
    "plt.show()"
   ]
  },
  {
   "cell_type": "code",
   "execution_count": null,
   "id": "9de09ad9",
   "metadata": {},
   "outputs": [],
   "source": [
    "# Visualizar algunas predicciones\n",
    "import matplotlib.pyplot as plt\n",
    "fig, axes = plt.subplots(2,5)\n",
    "for ax, img, pred, true in zip(axes.ravel(), X_test[:10], y_pred[:10], y_test[:10]):\n",
    "    ax.imshow(img.reshape(8,8))\n",
    "    ax.set_title(f'{true}→{pred}')\n",
    "    ax.axis('off')\n",
    "plt.tight_layout()\n",
    "plt.show()"
   ]
  },
  {
   "cell_type": "markdown",
   "id": "b7409641",
   "metadata": {},
   "source": [
    "## 4) Red neuronal simple (MLP) — solución"
   ]
  },
  {
   "cell_type": "code",
   "execution_count": null,
   "id": "f93431de",
   "metadata": {},
   "outputs": [],
   "source": [
    "from sklearn.neural_network import MLPClassifier\n",
    "from sklearn.metrics import accuracy_score\n",
    "\n",
    "mlp = MLPClassifier(hidden_layer_sizes=(64,), activation='relu', max_iter=300, random_state=0)\n",
    "mlp.fit(X_train, y_train)\n",
    "pred_mlp = mlp.predict(X_test)\n",
    "print('Accuracy MLP:', accuracy_score(y_test, pred_mlp))"
   ]
  },
  {
   "cell_type": "markdown",
   "id": "a8332cc1",
   "metadata": {},
   "source": [
    "## 5) Mini-proyecto — solución de referencia\n",
    "Para facilitar la corrección, generamos un **conjunto sintético** si no se encuentra la carpeta `ok/defecto`.\n",
    "- Clase `ok`: cuadrados regulares.\n",
    "- Clase `defecto`: cuadrados con ruido y bordes irregulares."
   ]
  },
  {
   "cell_type": "code",
   "execution_count": null,
   "id": "dfb330c3",
   "metadata": {},
   "outputs": [],
   "source": [
    "from pathlib import Path\n",
    "from PIL import Image, ImageDraw\n",
    "import numpy as np\n",
    "\n",
    "def generar_sintetico(n_por_clase=60, size=(32,32)):\n",
    "    X, y = [], []\n",
    "    w, h = size\n",
    "    for i in range(n_por_clase):\n",
    "        # ok\n",
    "        img = Image.new('L', size, 0)\n",
    "        d = ImageDraw.Draw(img)\n",
    "        d.rectangle([8,8,w-8,h-8], outline=255, width=2)\n",
    "        X.append(np.array(img, dtype='float32').reshape(-1))\n",
    "        y.append(0)\n",
    "    for i in range(n_por_clase):\n",
    "        # defecto\n",
    "        img = Image.new('L', size, 0)\n",
    "        d = ImageDraw.Draw(img)\n",
    "        jitter = np.random.randint(-3, 3)\n",
    "        d.rectangle([8+jitter,8,w-8, h-8+jitter], outline=255, width=3)\n",
    "        arr = np.array(img, dtype='float32')\n",
    "        ruido = np.random.normal(0, 15, size).astype('float32')\n",
    "        arr = np.clip(arr + ruido, 0, 255)\n",
    "        X.append(arr.reshape(-1))\n",
    "        y.append(1)\n",
    "    return np.array(X), np.array(y)\n",
    "\n",
    "# Intentar cargar desde carpeta; si falla, usar sintético\n",
    "def cargar_o_sintetico(carpeta, size=(32,32)):\n",
    "    carpeta = Path(carpeta)\n",
    "    try:\n",
    "        sub_ok = list((carpeta/'ok').glob('*.png'))\n",
    "        sub_def = list((carpeta/'defecto').glob('*.png'))\n",
    "        if len(sub_ok) == 0 or len(sub_def) == 0:\n",
    "            raise FileNotFoundError\n",
    "        X, y = [], []\n",
    "        for etiqueta, sub in enumerate(['ok', 'defecto']):\n",
    "            for ruta in (carpeta/sub).glob('*.png'):\n",
    "                im = Image.open(ruta).convert('L').resize(size)\n",
    "                X.append(np.array(im).astype('float32').reshape(-1))\n",
    "                y.append(etiqueta)\n",
    "        return np.array(X), np.array(y)\n",
    "    except Exception:\n",
    "        return generar_sintetico()\n",
    "\n",
    "# Ejecutar ejemplo\n",
    "Xproj, yproj = cargar_o_sintetico('/content/datos_piezas')  # en local, ajusta la ruta si procede\n",
    "Xtr, Xte, ytr, yte = train_test_split(Xproj, yproj, test_size=0.25, random_state=0)\n",
    "\n",
    "clf = LogisticRegression(max_iter=300)\n",
    "clf.fit(Xtr, ytr)\n",
    "yhat = clf.predict(Xte)\n",
    "print('Accuracy proyecto (logística):', accuracy_score(yte, yhat))"
   ]
  },
  {
   "cell_type": "code",
   "execution_count": null,
   "id": "58524812",
   "metadata": {},
   "outputs": [],
   "source": [
    "# Errores más comunes y visualización rápida\n",
    "import matplotlib.pyplot as plt\n",
    "idx_err = np.where(yhat != yte)[0]\n",
    "print('Nº de errores:', len(idx_err))\n",
    "if len(idx_err) > 0:\n",
    "    k = min(8, len(idx_err))\n",
    "    fig, axes = plt.subplots(1, k, figsize=(10,2))\n",
    "    for ax, i in zip(axes, idx_err[:k]):\n",
    "        ax.imshow(Xte[i].reshape(32,32))\n",
    "        ax.set_title(f'{int(yte[i])}→{int(yhat[i])}')\n",
    "        ax.axis('off')\n",
    "    plt.tight_layout()\n",
    "    plt.show()"
   ]
  },
  {
   "cell_type": "markdown",
   "id": "95c9cf8c",
   "metadata": {},
   "source": [
    "## 6) Conclusiones\n",
    "- Los pasos esenciales están resueltos y comentados.\n",
    "- Puedes sustituir el dataset sintético por imágenes reales en `ok/defecto`.\n",
    "- Sugerencia: probar `MLPClassifier` en el proyecto y comparar resultados."
   ]
  },
  {
   "cell_type": "markdown",
   "id": "7369be32",
   "metadata": {},
   "source": [
    "## Rúbrica de evaluación (proyecto)\n",
    "\n",
    "| Criterio | Excelente (A) | Notable (B) | Aprobado (C) | Insuficiente (D) |\n",
    "|---|---|---|---|---|\n",
    "| **Comprensión del problema (20%)** | Problema bien definido, objetivos claros y medibles | Problema definido; objetivos parcialmente claros | Problema descrito de forma básica | Problema/confusión sin objetivos |\n",
    "| **Metodología y proceso (30%)** | Pipeline reproducible, justificado y ordenado | Pipeline correcto con pequeñas lagunas | Pipeline funcional pero desordenado | Faltan pasos clave o no es reproducible |\n",
    "| **Resultados y métricas (30%)** | Métricas adecuadas, análisis de errores y discusión | Métricas correctas, análisis limitado | Métricas básicas, sin análisis | Métricas inapropiadas o ausentes |\n",
    "| **Comunicación y trabajo (20%)** | Informe claro, visualizaciones adecuadas, buen trabajo en equipo | Informe correcto, visualizaciones suficientes | Informe escueto, visualizaciones mínimas | Informe deficiente, sin colaboración |\n",
    "\n",
    "**Entrega mínima**: código + README + requisitos + informe corto (2–4 páginas) con figuras y conclusiones.\n"
   ]
  }
 ],
 "metadata": {
  "colab": {
   "name": "IA_Introduccion_Practicas_SOLUCIONES.ipynb",
   "provenance": []
  },
  "kernelspec": {
   "display_name": "Python 3",
   "language": "python",
   "name": "python3"
  }
 },
 "nbformat": 4,
 "nbformat_minor": 5
}
