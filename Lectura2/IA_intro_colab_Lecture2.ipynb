{
 "cells": [
  {
   "cell_type": "markdown",
   "id": "233a7d6b",
   "metadata": {},
   "source": [
    "# **Introducción a la IA** — Hoja de **Ejemplos** (Lecture 2)\n",
    "## Filtros, Convoluciones y Transformaciones Básicas\n",
    "**Fecha:** 2025-10-06\n",
    "\n",
    "> **Uso:** pensado para **Google Colab** o local. Cambia **1–2 parámetros** en cada bloque **TRY IT** y vuelve a ejecutar.\n",
    "> Cuaderno **auto-contenido**: genera imágenes sintéticas y no requiere internet.\n"
   ]
  },
  {
   "cell_type": "markdown",
   "id": "6be630b0",
   "metadata": {},
   "source": [
    "---\n",
    "## 🎯 Objetivos\n",
    "- Entender la operación de **convolución** y su aplicación a imágenes.\n",
    "- Probar **filtros**: media, gaussiano, Sobel (bordes), realce y emboss.\n",
    "- Practicar **transformaciones**: traslación, escalado, rotación (NN).\n",
    "- Explorar **modos de padding** y **umbralización** de bordes.\n"
   ]
  },
  {
   "cell_type": "code",
   "execution_count": null,
   "id": "b2b6adcb",
   "metadata": {},
   "outputs": [],
   "source": [
    "\n",
    "# === Preparación del entorno ===\n",
    "import numpy as np\n",
    "import matplotlib.pyplot as plt\n",
    "\n",
    "plt.rcParams['figure.dpi'] = 120\n",
    "\n",
    "def show(img, title=None):\n",
    "    plt.figure(figsize=(5,3))\n",
    "    if img.ndim == 2:\n",
    "        plt.imshow(img, cmap='gray', vmin=float(img.min()), vmax=float(img.max()))\n",
    "    else:\n",
    "        plt.imshow(img)\n",
    "    if title: plt.title(title)\n",
    "    plt.axis('off'); plt.show()\n",
    "\n",
    "def to_gray(img):\n",
    "    if img.ndim == 2:\n",
    "        g = img.astype(np.float32)\n",
    "    else:\n",
    "        g = (0.299*img[...,0] + 0.587*img[...,1] + 0.114*img[...,2]).astype(np.float32)\n",
    "    return g\n",
    "\n",
    "def pad2d(im, pad, mode='reflect'):\n",
    "    H, W = im.shape\n",
    "    if mode == 'zero':\n",
    "        out = np.zeros((H+2*pad, W+2*pad), dtype=im.dtype)\n",
    "        out[pad:pad+H, pad:pad+W] = im\n",
    "        return out\n",
    "    elif mode in ('edge', 'reflect'):\n",
    "        return np.pad(im, pad_width=pad, mode=mode).astype(im.dtype)\n",
    "    else:\n",
    "        raise ValueError(\"mode debe ser 'zero', 'edge' o 'reflect'\")\n",
    "\n",
    "def conv2d_gray(im, K, mode='reflect'):\n",
    "    im = im.astype(np.float32)\n",
    "    kH, kW = K.shape\n",
    "    assert kH % 2 == 1 and kW % 2 == 1, \"K debe tener tamaño impar\"\n",
    "    p = max(kH//2, kW//2)\n",
    "    pim = pad2d(im, p, mode=mode)\n",
    "    H, W = im.shape\n",
    "    out = np.zeros((H, W), dtype=np.float32)\n",
    "    for i in range(H):\n",
    "        for j in range(W):\n",
    "            patch = pim[i:i+kH, j:j+kW]\n",
    "            out[i,j] = np.sum(patch * K)\n",
    "    return out\n",
    "\n",
    "def normalize01(im):\n",
    "    im = im.astype(np.float32)\n",
    "    mn, mx = float(im.min()), float(im.max())\n",
    "    if mx - mn < 1e-8: \n",
    "        return np.zeros_like(im)\n",
    "    return (im - mn) / (mx - mn)\n",
    "\n",
    "def gaussian_kernel(size=3, sigma=1.0):\n",
    "    assert size % 2 == 1, \"size debe ser impar\"\n",
    "    r = size//2\n",
    "    ax = np.arange(-r, r+1, dtype=np.float32)\n",
    "    xx, yy = np.meshgrid(ax, ax)\n",
    "    K = np.exp(-(xx**2 + yy**2) / (2*sigma**2))\n",
    "    K /= K.sum()\n",
    "    return K.astype(np.float32)\n",
    "\n",
    "def translate_nn(img, tx=0, ty=0, fill=0):\n",
    "    # tx: +derecha, ty: +abajo\n",
    "    H, W = img.shape[:2]\n",
    "    out = np.zeros_like(img)\n",
    "    out.fill(fill)\n",
    "    x0 = max(0, tx); x1 = min(W, W+tx)\n",
    "    y0 = max(0, ty); y1 = min(H, H+ty)\n",
    "    sx0 = max(0, -tx); sy0 = max(0, -ty)\n",
    "    if img.ndim == 2:\n",
    "        out[sy0:sy0+(y1-y0), sx0:sx0+(x1-x0)] = img[y0:y1, x0:x1]\n",
    "    else:\n",
    "        out[sy0:sy0+(y1-y0), sx0:sx0+(x1-x0), :] = img[y0:y1, x0:x1, :]\n",
    "    return out\n",
    "\n",
    "def scale_nn(img, sx=1.0, sy=1.0):\n",
    "    H, W = img.shape[:2]\n",
    "    H2, W2 = max(1, int(round(H*sy))), max(1, int(round(W*sx)))\n",
    "    out = np.zeros((H2, W2, img.shape[2]) if img.ndim==3 else (H2, W2), dtype=img.dtype)\n",
    "    for yy in range(H2):\n",
    "        for xx in range(W2):\n",
    "            ys = min(H-1, max(0, int(round(yy/sy)))) if sy!=0 else 0\n",
    "            xs = min(W-1, max(0, int(round(xx/sx)))) if sx!=0 else 0\n",
    "            out[yy, xx] = img[ys, xs]\n",
    "    return out\n",
    "\n",
    "def rotate_nn(img, angle_deg=0, fill=0):\n",
    "    # Rotación alrededor del centro, inversa + NN\n",
    "    H, W = img.shape[:2]\n",
    "    angle = np.deg2rad(angle_deg)\n",
    "    cos_a, sin_a = np.cos(angle), np.sin(angle)\n",
    "    cx, cy = (W-1)/2.0, (H-1)/2.0\n",
    "    out = np.zeros_like(img); out.fill(fill)\n",
    "    for y in range(H):\n",
    "        for x in range(W):\n",
    "            xo = (x - cx)*cos_a + (y - cy)*sin_a + cx\n",
    "            yo = -(x - cx)*sin_a + (y - cy)*cos_a + cy\n",
    "            xi, yi = int(round(xo)), int(round(yo))\n",
    "            if 0 <= xi < W and 0 <= yi < H:\n",
    "                out[y, x] = img[yi, xi]\n",
    "    return out\n",
    "\n",
    "print(\"Entorno listo ✔\")\n"
   ]
  },
  {
   "cell_type": "markdown",
   "id": "80c40fa8",
   "metadata": {},
   "source": [
    "---\n",
    "## 0) Imagen base (sintética)\n",
    "**TRY IT:** ajusta tamaño, degradados y figuras para probar filtros.\n"
   ]
  },
  {
   "cell_type": "code",
   "execution_count": null,
   "id": "34a1bfc5",
   "metadata": {},
   "outputs": [],
   "source": [
    "\n",
    "# === PARÁMETROS (modifica) ===\n",
    "H, W = 240, 360\n",
    "add_circle = True; circle_radius = 50\n",
    "add_square = False; sq = (40, 60, 120, 140)  # (y0,x0,y1,x1)\n",
    "gradient_R = True; gradient_G = True; gradient_B = False\n",
    "# === FIN ===\n",
    "\n",
    "x = np.linspace(0, 1, W); y = np.linspace(0, 1, H)\n",
    "X, Y = np.meshgrid(x, y)\n",
    "\n",
    "R = (X*255).astype(np.uint8) if gradient_R else np.zeros((H,W), np.uint8)\n",
    "G = (Y*255).astype(np.uint8) if gradient_G else np.zeros((H,W), np.uint8)\n",
    "B = ((1-X)*255).astype(np.uint8) if gradient_B else np.zeros((H,W), np.uint8)\n",
    "\n",
    "img = np.stack([R, G, B], axis=2)\n",
    "\n",
    "if add_circle:\n",
    "    YY, XX = np.ogrid[:H, :W]\n",
    "    mask = (XX - W//2)**2 + (YY - H//2)**2 <= circle_radius**2\n",
    "    img[mask] = 255\n",
    "if add_square:\n",
    "    y0, x0, y1, x1 = sq\n",
    "    img[y0:y1, x0:x1] = 0\n",
    "\n",
    "g = to_gray(img)\n",
    "show(img, \"Imagen RGB sintética\")\n",
    "show(g,  \"Escala de grises\")\n"
   ]
  },
  {
   "cell_type": "markdown",
   "id": "a3d2673a",
   "metadata": {},
   "source": [
    "---\n",
    "## 1) Convolución genérica (kernel editable)\n",
    "**TRY IT:** cambia `K` y `mode`. Ejemplos: media 3×3, realce, emboss, laplaciano.\n"
   ]
  },
  {
   "cell_type": "code",
   "execution_count": null,
   "id": "a6ac7444",
   "metadata": {},
   "outputs": [],
   "source": [
    "\n",
    "# === PARÁMETROS (modifica) ===\n",
    "K = np.array([[0, 1, 0],\n",
    "              [1,-4, 1],\n",
    "              [0, 1, 0]], dtype=np.float32)  # Laplaciano (resalta bordes)\n",
    "mode = 'reflect'  # 'zero' | 'edge' | 'reflect'\n",
    "# === FIN ===\n",
    "\n",
    "out = conv2d_gray(g, K, mode=mode)\n",
    "show(normalize01(out), f\"Convolución genérica (mode={mode})\")\n"
   ]
  },
  {
   "cell_type": "markdown",
   "id": "4a9d5873",
   "metadata": {},
   "source": [
    "---\n",
    "## 2) Filtro de media k×k\n",
    "**TRY IT:** ajusta `k` (impar) y observa el suavizado y la pérdida de detalle.\n"
   ]
  },
  {
   "cell_type": "code",
   "execution_count": null,
   "id": "51c3b714",
   "metadata": {},
   "outputs": [],
   "source": [
    "\n",
    "# === PARÁMETROS (modifica) ===\n",
    "k = 5   # impar: 3,5,7...\n",
    "mode = 'reflect'\n",
    "# === FIN ===\n",
    "\n",
    "assert k % 2 == 1, \"k debe ser impar\"\n",
    "K = np.ones((k,k), dtype=np.float32) / (k*k)\n",
    "smooth = conv2d_gray(g, K, mode=mode)\n",
    "show(normalize01(smooth), f\"Media {k}×{k} (mode={mode})\")\n"
   ]
  },
  {
   "cell_type": "markdown",
   "id": "4a48931a",
   "metadata": {},
   "source": [
    "---\n",
    "## 3) Filtro Gaussiano\n",
    "**TRY IT:** ajusta `size` y `sigma`. Más `sigma` → más desenfoque.\n"
   ]
  },
  {
   "cell_type": "code",
   "execution_count": null,
   "id": "b06d1552",
   "metadata": {},
   "outputs": [],
   "source": [
    "\n",
    "# === PARÁMETROS (modifica) ===\n",
    "size = 5     # impar\n",
    "sigma = 1.0\n",
    "mode = 'reflect'\n",
    "# === FIN ===\n",
    "\n",
    "K = gaussian_kernel(size=size, sigma=sigma)\n",
    "gauss = conv2d_gray(g, K, mode=mode)\n",
    "show(normalize01(gauss), f\"Gauss size={size}, sigma={sigma} (mode={mode})\")\n"
   ]
  },
  {
   "cell_type": "markdown",
   "id": "d6925170",
   "metadata": {},
   "source": [
    "---\n",
    "## 4) Realce (Unsharp Mask)\n",
    "**TRY IT:** cambia `sigma` y `alpha`.\n"
   ]
  },
  {
   "cell_type": "code",
   "execution_count": null,
   "id": "59fd3e6d",
   "metadata": {},
   "outputs": [],
   "source": [
    "\n",
    "# === PARÁMETROS (modifica) ===\n",
    "sigma = 1.0\n",
    "alpha = 1.0  # peso de realce\n",
    "# === FIN ===\n",
    "\n",
    "blur = conv2d_gray(g, gaussian_kernel(5, sigma), mode='reflect')\n",
    "detail = g - blur\n",
    "sharp = np.clip(g + alpha*detail, 0, 255)\n",
    "show(normalize01(sharp), f\"Unsharp sigma={sigma}, alpha={alpha})\")\n"
   ]
  },
  {
   "cell_type": "markdown",
   "id": "3eef666c",
   "metadata": {},
   "source": [
    "---\n",
    "## 5) Bordes con Sobel\n",
    "**TRY IT:** visualiza `g_x`, `g_y` y la magnitud.\n"
   ]
  },
  {
   "cell_type": "code",
   "execution_count": null,
   "id": "a2803717",
   "metadata": {},
   "outputs": [],
   "source": [
    "\n",
    "Gx = np.array([[-1,0,1],[-2,0,2],[-1,0,1]], dtype=np.float32)\n",
    "Gy = np.array([[-1,-2,-1],[0,0,0],[1,2,1]], dtype=np.float32)\n",
    "\n",
    "gx = conv2d_gray(g, Gx, mode='reflect')\n",
    "gy = conv2d_gray(g, Gy, mode='reflect')\n",
    "mag = np.sqrt(gx**2 + gy**2)\n",
    "\n",
    "show(normalize01(gx), \"g_x (Sobel vertical)\")\n",
    "show(normalize01(gy), \"g_y (Sobel horizontal)\")\n",
    "show(normalize01(mag), \"|gradiente|\")\n"
   ]
  },
  {
   "cell_type": "markdown",
   "id": "6efef988",
   "metadata": {},
   "source": [
    "---\n",
    "## 6) Umbralización de bordes\n",
    "**TRY IT:** ajusta `t` para binarizar la magnitud del gradiente.\n"
   ]
  },
  {
   "cell_type": "code",
   "execution_count": null,
   "id": "3fb7740b",
   "metadata": {},
   "outputs": [],
   "source": [
    "\n",
    "# === PARÁMETROS (modifica) ===\n",
    "t = 0.35  # umbral en [0,1]\n",
    "# === FIN ===\n",
    "\n",
    "# Recalcular 'mag' para independencia de orden de ejecución\n",
    "Gx = np.array([[-1,0,1],[-2,0,2],[-1,0,1]], dtype=np.float32)\n",
    "Gy = np.array([[-1,-2,-1],[0,0,0],[1,2,1]], dtype=np.float32)\n",
    "gx = conv2d_gray(g, Gx, mode='reflect')\n",
    "gy = conv2d_gray(g, Gy, mode='reflect')\n",
    "M = normalize01(np.sqrt(gx**2 + gy**2))\n",
    "edges = (M >= t).astype(np.float32)\n",
    "show(edges, f\"Bordes binarizados (t={t})\")\n"
   ]
  },
  {
   "cell_type": "markdown",
   "id": "d7e67f43",
   "metadata": {},
   "source": [
    "---\n",
    "## 7) Emboss (relieve)\n",
    "**TRY IT:** cambia el kernel para variar la dirección del relieve.\n"
   ]
  },
  {
   "cell_type": "code",
   "execution_count": null,
   "id": "1173c4dd",
   "metadata": {},
   "outputs": [],
   "source": [
    "\n",
    "# === PARÁMETROS (modifica) ===\n",
    "K = np.array([[-2,-1,0],\n",
    "              [-1, 1,1],\n",
    "              [ 0, 1,2]], dtype=np.float32)\n",
    "mode = 'reflect'\n",
    "# === FIN ===\n",
    "\n",
    "emb = conv2d_gray(g, K, mode=mode)\n",
    "show(normalize01(emb), \"Emboss\")\n"
   ]
  },
  {
   "cell_type": "markdown",
   "id": "54a52db7",
   "metadata": {},
   "source": [
    "---\n",
    "## 8) Transformaciones geométricas (NN)\n",
    "**TRY IT:** mueve (`tx,ty`), escala (`sx,sy`) y rota (`angle_deg`).\n"
   ]
  },
  {
   "cell_type": "code",
   "execution_count": null,
   "id": "1cced150",
   "metadata": {},
   "outputs": [],
   "source": [
    "\n",
    "# === PARÁMETROS (modifica) ===\n",
    "tx, ty = 20, -10\n",
    "sx, sy = 1.2, 0.8\n",
    "angle_deg = 20\n",
    "# === FIN ===\n",
    "\n",
    "img_t = translate_nn(img, tx=tx, ty=ty, fill=0)\n",
    "img_s = scale_nn(img, sx=sx, sy=sy)\n",
    "img_r = rotate_nn(img, angle_deg=angle_deg, fill=0)\n",
    "\n",
    "show(img_t, f\"Traslación (tx={tx}, ty={ty})\")\n",
    "show(img_s, f\"Escalado NN (sx={sx}, sy={sy})\")\n",
    "show(img_r, f\"Rotación NN ({angle_deg}°)\")\n"
   ]
  },
  {
   "cell_type": "markdown",
   "id": "8c5cc061",
   "metadata": {},
   "source": [
    "---\n",
    "## 9) Comparativa de padding\n",
    "**TRY IT:** observa el efecto del padding con un filtro de realce.\n"
   ]
  },
  {
   "cell_type": "code",
   "execution_count": null,
   "id": "9379b13e",
   "metadata": {},
   "outputs": [],
   "source": [
    "\n",
    "K = np.array([[0,-1,0],\n",
    "              [-1,5,-1],\n",
    "              [0,-1,0]], dtype=np.float32)  # realce simple\n",
    "\n",
    "out_zero = conv2d_gray(g, K, mode='zero')\n",
    "out_edge = conv2d_gray(g, K, mode='edge')\n",
    "out_refl = conv2d_gray(g, K, mode='reflect')\n",
    "\n",
    "plt.figure(figsize=(9,3))\n",
    "plt.subplot(1,3,1); plt.imshow(normalize01(out_zero), cmap='gray'); plt.title('zero'); plt.axis('off')\n",
    "plt.subplot(1,3,2); plt.imshow(normalize01(out_edge), cmap='gray'); plt.title('edge'); plt.axis('off')\n",
    "plt.subplot(1,3,3); plt.imshow(normalize01(out_refl), cmap='gray'); plt.title('reflect'); plt.axis('off')\n",
    "plt.show()\n"
   ]
  },
  {
   "cell_type": "markdown",
   "id": "0a72f80a",
   "metadata": {},
   "source": [
    "---\n",
    "## 10) Guardar imagen\n",
    "**TRY IT:** elige qué variable guardar como PNG.\n"
   ]
  },
  {
   "cell_type": "code",
   "execution_count": null,
   "id": "2324433b",
   "metadata": {},
   "outputs": [],
   "source": [
    "\n",
    "# === PARÁMETROS (modifica) ===\n",
    "filename = \"lecture2_result.png\"\n",
    "image_to_save = normalize01(mag) if 'mag' in globals() else g\n",
    "# === FIN ===\n",
    "\n",
    "plt.imsave(filename, image_to_save, cmap='gray' if image_to_save.ndim==2 else None)\n",
    "print(\"Guardado:\", filename)\n"
   ]
  },
  {
   "cell_type": "markdown",
   "id": "15334664",
   "metadata": {},
   "source": [
    "---\n",
    "# ✅ Mini‑cuestionario (auto‑corregible) — Lecture 2\n",
    "\n",
    "Cambia **solo lo necesario** en cada bloque *TRY IT* y ejecuta para ver si pasa las comprobaciones.\n"
   ]
  },
  {
   "cell_type": "markdown",
   "id": "fb63c996",
   "metadata": {},
   "source": [
    "### 1) Filtro de **media 3×3**\n",
    "**TRY IT:** completa la función `mean3x3(im, mode)` usando convolución con `K = ones(3,3)/9`. \n",
    "Al ejecutar, verás si **pasa** la verificación.\n"
   ]
  },
  {
   "cell_type": "code",
   "execution_count": null,
   "id": "3dc7bfd7",
   "metadata": {},
   "outputs": [],
   "source": [
    "\n",
    "import numpy as np\n",
    "\n",
    "# === TODO: completa esta función ===\n",
    "def mean3x3(im, mode='reflect'):\n",
    "    K = np.ones((3,3), dtype=np.float32) / 9.0\n",
    "    return conv2d_gray(im, K, mode=mode)\n",
    "\n",
    "# --- Verificación ---\n",
    "try:\n",
    "    # usar 'g' de secciones anteriores (escala de grises sintética)\n",
    "    ref = conv2d_gray(g, np.ones((3,3), np.float32)/9.0, mode='reflect')\n",
    "    stu = mean3x3(g, mode='reflect')\n",
    "    ok = np.allclose(ref, stu, atol=1e-5)\n",
    "    print(\"✔ Correcto\" if ok else \"✘ Aún no coincide con la referencia\")\n",
    "except NameError as e:\n",
    "    print(\"✘ Falta variable previa (ejecuta las celdas iniciales):\", e)\n"
   ]
  },
  {
   "cell_type": "markdown",
   "id": "6b5033ad",
   "metadata": {},
   "source": [
    "### 2) **Magnitud Sobel** normalizada\n",
    "**TRY IT:** implementa `sobel_mag(im, mode)` que devuelva `sqrt(gx^2 + gy^2)` **normalizada a [0,1]**.\n",
    "La comprobación verifica forma, rango y un rango razonable de píxeles detectados.\n"
   ]
  },
  {
   "cell_type": "code",
   "execution_count": null,
   "id": "822ccb38",
   "metadata": {},
   "outputs": [],
   "source": [
    "\n",
    "# === TODO: completa esta función ===\n",
    "def sobel_mag(im, mode='reflect'):\n",
    "    Gx = np.array([[-1,0,1],[-2,0,2],[-1,0,1]], dtype=np.float32)\n",
    "    Gy = np.array([[-1,-2,-1],[0,0,0],[1,2,1]], dtype=np.float32)\n",
    "    gx = conv2d_gray(im, Gx, mode=mode)\n",
    "    gy = conv2d_gray(im, Gy, mode=mode)\n",
    "    mag = np.sqrt(gx**2 + gy**2)\n",
    "    M = normalize01(mag)\n",
    "    return M\n",
    "\n",
    "# --- Verificación ---\n",
    "try:\n",
    "    M = sobel_mag(g, mode='reflect')\n",
    "    cond_shape = (M.shape == g.shape)\n",
    "    cond_range = (float(M.min()) >= 0-1e-6) and (float(M.max()) <= 1+1e-6)\n",
    "    ratio = (M >= 0.3).mean()  # fracción de \"bordes\"\n",
    "    cond_ratio = 0.02 <= ratio <= 0.8\n",
    "    print(\"✔ Forma OK\" if cond_shape else \"✘ Forma incorrecta\")\n",
    "    print(\"✔ Rango [0,1] OK\" if cond_range else \"✘ Rango fuera de [0,1]\")\n",
    "    print(f\"✔ Fracción de bordes razonable ({ratio:.3f})\" if cond_ratio else f\"✘ Fracción de bordes anómala ({ratio:.3f})\")\n",
    "    print(\"Resultado global:\", \"✔ Correcto\" if (cond_shape and cond_range and cond_ratio) else \"✘ Revisa tu implementación\")\n",
    "except NameError as e:\n",
    "    print(\"✘ Falta variable previa (ejecuta las celdas iniciales):\", e)\n"
   ]
  },
  {
   "cell_type": "markdown",
   "id": "3ad308aa",
   "metadata": {},
   "source": [
    "### 3) **Traslación** (NN)\n",
    "**TRY IT:** usa `translate_nn` para mover la imagen `img` `tx=+15`, `ty=-8` (derecha y arriba).\n",
    "La verificación compara con una referencia.\n"
   ]
  },
  {
   "cell_type": "code",
   "execution_count": null,
   "id": "0607309d",
   "metadata": {},
   "outputs": [],
   "source": [
    "\n",
    "# === TODO: ajusta estos parámetros ===\n",
    "tx, ty = 15, -8\n",
    "out_t = translate_nn(img, tx=tx, ty=ty, fill=0)\n",
    "\n",
    "# --- Verificación ---\n",
    "ref_t = translate_nn(img, tx=15, ty=-8, fill=0)\n",
    "ok = np.array_equal(out_t, ref_t)\n",
    "print(\"✔ Correcto\" if ok else \"✘ No coincide con la traslación objetivo\")\n"
   ]
  },
  {
   "cell_type": "markdown",
   "id": "26a9c8bb",
   "metadata": {},
   "source": [
    "### 4) **Rotación** (NN) con relleno\n",
    "**TRY IT:** rota `img` **10°** con `fill=128` usando `rotate_nn`. La comprobación revisa que el relleno se aplique en bordes y que con 0° no cambie la imagen.\n"
   ]
  },
  {
   "cell_type": "code",
   "execution_count": null,
   "id": "441d41db",
   "metadata": {},
   "outputs": [],
   "source": [
    "\n",
    "# === TODO: produce 'out_r' rotando 10° con relleno 128 ===\n",
    "out_r = rotate_nn(img, angle_deg=10, fill=128)\n",
    "\n",
    "# --- Verificación ---\n",
    "ok_fill = (out_r[0,0] == 128) or (out_r[-1,-1] == 128)\n",
    "ok_zero = np.array_equal(rotate_nn(img, angle_deg=0, fill=123), img)\n",
    "print(\"✔ Relleno aplicado\" if ok_fill else \"✘ Parece que no hay relleno en bordes\")\n",
    "print(\"✔ Identidad a 0°\" if ok_zero else \"✘ Rotación 0° debería devolver la imagen original\")\n"
   ]
  }
 ],
 "metadata": {
  "colab": {
   "name": "IA_intro_colab_Lecture2.ipynb",
   "provenance": []
  },
  "kernelspec": {
   "display_name": "Python 3",
   "language": "python",
   "name": "python3"
  },
  "language_info": {
   "name": "python",
   "version": "3.x"
  }
 },
 "nbformat": 4,
 "nbformat_minor": 5
}
