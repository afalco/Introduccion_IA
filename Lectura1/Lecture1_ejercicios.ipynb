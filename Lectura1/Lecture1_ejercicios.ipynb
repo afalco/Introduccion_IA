{
 "cells": [
  {
   "cell_type": "markdown",
   "id": "15f59024",
   "metadata": {},
   "source": [
    "# Lecture 1 — Ejercicios de procesado de imagen digital\n",
    "**Fecha:** 2025-10-06\n",
    "\n",
    "Este cuaderno acompaña a la lectura *Introducción al procesado de imagen digital*.  \n",
    "Trabajaremos con imágenes **sintéticas** generadas con `numpy` para que el cuaderno sea 100% reproducible sin conexión.\n",
    "\n",
    "**Objetivos:**\n",
    "- Comprender la representación numérica de una imagen (matrices y tensores).\n",
    "- Practicar indexación, *slicing*, trasposición e inversiones.\n",
    "- Manipular canales RGB y normalización de intensidades.\n",
    "- Entender los formatos HWC y CHW y calcular posiciones lineales (memoria plana).\n",
    "- Aplicar transformaciones simples e introducir una convolución básica.\n",
    "- Resolver pequeños retos guiados con comprobaciones automáticas.\n"
   ]
  },
  {
   "cell_type": "code",
   "execution_count": null,
   "id": "119fceb5",
   "metadata": {},
   "outputs": [],
   "source": [
    "\n",
    "import numpy as np\n",
    "import matplotlib.pyplot as plt\n",
    "\n",
    "# Aumentar DPI para mejor visualización en Colab/local\n",
    "plt.rcParams['figure.dpi'] = 120\n",
    "\n",
    "def show(img, title=None):\n",
    "    plt.figure(figsize=(5,3))\n",
    "    if img.ndim == 2:\n",
    "        plt.imshow(img, cmap='gray', vmin=img.min(), vmax=img.max())\n",
    "    else:\n",
    "        plt.imshow(img)\n",
    "    if title:\n",
    "        plt.title(title)\n",
    "    plt.axis('off')\n",
    "    plt.show()\n",
    "    \n",
    "print(\"Entorno listo ✔\")\n"
   ]
  },
  {
   "cell_type": "markdown",
   "id": "154de736",
   "metadata": {},
   "source": [
    "## 1) Crear una imagen sintética\n",
    "Crearemos una imagen RGB `img` de tamaño `H=240, W=360` con:\n",
    "- Un **degradado** horizontal en el canal **R**.\n",
    "- Un **degradado** vertical en el canal **G**.\n",
    "- Un **círculo** central blanco añadido en los tres canales.\n"
   ]
  },
  {
   "cell_type": "code",
   "execution_count": null,
   "id": "011365cf",
   "metadata": {},
   "outputs": [],
   "source": [
    "\n",
    "H, W = 240, 360\n",
    "x = np.linspace(0, 1, W)\n",
    "y = np.linspace(0, 1, H)\n",
    "X, Y = np.meshgrid(x, y)\n",
    "\n",
    "R = (X * 255).astype(np.uint8)\n",
    "G = (Y * 255).astype(np.uint8)\n",
    "B = np.zeros_like(R, dtype=np.uint8)\n",
    "\n",
    "# Círculo\n",
    "cx, cy, r = W//2, H//2, 60\n",
    "YY, XX = np.ogrid[:H, :W]\n",
    "mask = (XX - cx)**2 + (YY - cy)**2 <= r**2\n",
    "for C in (R, G, B):\n",
    "    C[mask] = 255\n",
    "\n",
    "img = np.stack([R, G, B], axis=2)  # HWC\n",
    "print(\"img.shape =\", img.shape, \"| dtype =\", img.dtype)\n",
    "show(img, \"Imagen sintética RGB (HWC)\")\n"
   ]
  },
  {
   "cell_type": "markdown",
   "id": "e10bed6c",
   "metadata": {},
   "source": [
    "### 2) Información básica y visualización\n",
    "Completa las celdas para inspeccionar dimensiones, tipo y valores mínimo/máximo por canal.\n"
   ]
  },
  {
   "cell_type": "code",
   "execution_count": null,
   "id": "c95e3e24",
   "metadata": {},
   "outputs": [],
   "source": [
    "\n",
    "# TODO: imprime (shape, dtype) y min/max por canal\n",
    "print(\"Shape:\", img.shape)\n",
    "print(\"Dtype:\", img.dtype)\n",
    "print(\"Canales (R,G,B) min/max:\",\n",
    "      img[...,0].min(), img[...,0].max(),\n",
    "      img[...,1].min(), img[...,1].max(),\n",
    "      img[...,2].min(), img[...,2].max())\n"
   ]
  },
  {
   "cell_type": "markdown",
   "id": "6e4d72b7",
   "metadata": {},
   "source": [
    "## 3) Indexación y *slicing*\n",
    "**3.1** Extrae una **ventana** central de 120x180 píxeles y muéstrala.  \n",
    "**3.2** Invierte la imagen verticalmente e **invertida horizontalmente**.  \n"
   ]
  },
  {
   "cell_type": "code",
   "execution_count": null,
   "id": "33971c6b",
   "metadata": {},
   "outputs": [],
   "source": [
    "\n",
    "# 3.1 Ventana central 120x180\n",
    "h, w = 120, 180\n",
    "y0 = (H - h)//2; y1 = y0 + h\n",
    "x0 = (W - w)//2; x1 = x0 + w\n",
    "img_crop = img[y0:y1, x0:x1, :]\n",
    "show(img_crop, \"Recorte central 120x180\")\n",
    "\n",
    "# 3.2 Inversiones\n",
    "img_flip_v = img[::-1, :, :]\n",
    "img_flip_h = img[:, ::-1, :]\n",
    "show(img_flip_v, \"Invertida vertical\")\n",
    "show(img_flip_h, \"Invertida horizontal\")\n"
   ]
  },
  {
   "cell_type": "markdown",
   "id": "16fa7963",
   "metadata": {},
   "source": [
    "## 4) Canales RGB\n",
    "**4.1** Muestra por separado cada canal en escala de grises.  \n",
    "**4.2** Crea una imagen **solo canal R** (los otros a 0).  \n"
   ]
  },
  {
   "cell_type": "code",
   "execution_count": null,
   "id": "4612cc2b",
   "metadata": {},
   "outputs": [],
   "source": [
    "\n",
    "# 4.1 Canales en escala de grises\n",
    "show(img[...,0], \"Canal R\")\n",
    "show(img[...,1], \"Canal G\")\n",
    "show(img[...,2], \"Canal B\")\n",
    "\n",
    "# 4.2 Solo canal R\n",
    "only_R = np.zeros_like(img)\n",
    "only_R[...,0] = img[...,0]\n",
    "show(only_R, \"Solo canal R (G=B=0)\")\n"
   ]
  },
  {
   "cell_type": "markdown",
   "id": "de80dcf0",
   "metadata": {},
   "source": [
    "## 5) Normalización de intensidades\n",
    "Convierte `img` a `float32` y normaliza en `[0,1]`. Comprueba el rango resultante.\n"
   ]
  },
  {
   "cell_type": "code",
   "execution_count": null,
   "id": "34b2e7e4",
   "metadata": {},
   "outputs": [],
   "source": [
    "\n",
    "img_f = img.astype(np.float32) / 255.0\n",
    "print(img_f.dtype, img_f.min(), img_f.max())\n",
    "show(img_f, \"Imagen normalizada [0,1]\")\n"
   ]
  },
  {
   "cell_type": "markdown",
   "id": "41c0612b",
   "metadata": {},
   "source": [
    "## 6) HWC vs CHW y posición lineal\n",
    "**6.1** Convierte `img` de HWC a CHW y comprueba la nueva `shape`.  \n",
    "**6.2** Para `W=360, H=240, C=3`, calcula la **posición lineal** del píxel `(x=15, y=192, c=2)` en memoria plana CHW usando:\n",
    "```\n",
    "index = x + y*W + c*W*H\n",
    "```\n"
   ]
  },
  {
   "cell_type": "code",
   "execution_count": null,
   "id": "86a6d9de",
   "metadata": {},
   "outputs": [],
   "source": [
    "\n",
    "img_chw = np.transpose(img, (2,0,1))  # C,H,W\n",
    "print(\"HWC -> CHW:\", img.shape, \"->\", img_chw.shape)\n",
    "\n",
    "W_, H_, C_ = W, H, 3\n",
    "x, y, c = 15, 192, 2\n",
    "index = x + y*W_ + c*W_*H_\n",
    "print(\"Índice lineal (x=15,y=192,c=2):\", index)\n"
   ]
  },
  {
   "cell_type": "markdown",
   "id": "7b50d735",
   "metadata": {},
   "source": [
    "## 7) Reescalado simple (interpolación vecindad cercana)\n",
    "Implementa un **re-escalado 2x** por vecindad cercana, sin usar librerías externas.\n"
   ]
  },
  {
   "cell_type": "code",
   "execution_count": null,
   "id": "a2f574f2",
   "metadata": {},
   "outputs": [],
   "source": [
    "\n",
    "scale = 2\n",
    "H2, W2 = H*scale, W*scale\n",
    "up = np.zeros((H2, W2, 3), dtype=img.dtype)\n",
    "for yy in range(H2):\n",
    "    for xx in range(W2):\n",
    "        y_src = yy // scale\n",
    "        x_src = xx // scale\n",
    "        up[yy, xx] = img[y_src, x_src]\n",
    "show(up, \"Reescalado 2x (Nearest-Neighbor)\")\n"
   ]
  },
  {
   "cell_type": "markdown",
   "id": "0d551209",
   "metadata": {},
   "source": [
    "## 8) Convolución básica (difuminado)\n",
    "Aplica un **filtro de media 3x3** al canal R. Evita dependencias externas.\n"
   ]
  },
  {
   "cell_type": "code",
   "execution_count": null,
   "id": "7a925f66",
   "metadata": {},
   "outputs": [],
   "source": [
    "\n",
    "K = np.ones((3,3), dtype=np.float32) / 9.0\n",
    "R = img[...,0].astype(np.float32)\n",
    "Hk, Wk = R.shape\n",
    "out = np.zeros_like(R)\n",
    "for i in range(1, Hk-1):\n",
    "    for j in range(1, Wk-1):\n",
    "        patch = R[i-1:i+2, j-1:j+2]\n",
    "        out[i,j] = np.sum(patch * K)\n",
    "out = np.clip(out, 0, 255).astype(np.uint8)\n",
    "\n",
    "blur = img.copy()\n",
    "blur[...,0] = out\n",
    "show(blur, \"Canal R difuminado (media 3x3)\")\n"
   ]
  },
  {
   "cell_type": "markdown",
   "id": "a38242ef",
   "metadata": {},
   "source": [
    "## 9) Tamaño en memoria\n",
    "Calcula el tamaño (en bytes y MB) de una imagen RGB `1920x1080` de 8 bits por canal.\n"
   ]
  },
  {
   "cell_type": "code",
   "execution_count": null,
   "id": "03c0723b",
   "metadata": {},
   "outputs": [],
   "source": [
    "\n",
    "Hq, Wq, Cq = 1080, 1920, 3\n",
    "bytes_total = Hq * Wq * Cq * 1  # 1 byte por canal (8 bits)\n",
    "print(\"Bytes:\", bytes_total, \"| MB aprox:\", bytes_total / (1024*1024))\n"
   ]
  },
  {
   "cell_type": "markdown",
   "id": "de897858",
   "metadata": {},
   "source": [
    "## 10) Retos rápidos\n",
    "1. Crea una función `mirror_quadrants(img)` que **intercambie** cuadrantes de la imagen (arriba-izquierda con abajo-derecha, etc.).  \n",
    "2. Implementa `to_grayscale(img)` que convierta RGB a escala de grises usando media simple por canal (sin usar librerías).  \n",
    "3. Escribe `histogram_channel(img, c)` que devuelva un histograma (array de longitud 256) para el canal `c`.\n"
   ]
  },
  {
   "cell_type": "code",
   "execution_count": null,
   "id": "c6941355",
   "metadata": {},
   "outputs": [],
   "source": [
    "\n",
    "def mirror_quadrants(im):\n",
    "    H, W, C = im.shape\n",
    "    h2, w2 = H//2, W//2\n",
    "    out = im.copy()\n",
    "    # Intercambio de cuadrantes: TL <-> BR, TR <-> BL\n",
    "    out[:h2,:w2], out[h2:,w2:] = im[h2:,w2:].copy(), im[:h2,:w2].copy()\n",
    "    out[:h2,w2:], out[h2:,:w2] = im[h2:,:w2].copy(), im[:h2,w2:].copy()\n",
    "    return out\n",
    "\n",
    "def to_grayscale(im):\n",
    "    g = im[...,0].astype(np.float32) + im[...,1].astype(np.float32) + im[...,2].astype(np.float32)\n",
    "    g = (g / 3.0).astype(np.uint8)\n",
    "    return g\n",
    "\n",
    "def histogram_channel(im, c):\n",
    "    h = np.zeros(256, dtype=np.int32)\n",
    "    vals = im[...,c].ravel()\n",
    "    for v in vals:\n",
    "        h[v] += 1\n",
    "    return h\n",
    "\n",
    "# Pruebas rápidas\n",
    "show(mirror_quadrants(img), \"Cuadrantes espejados\")\n",
    "show(to_grayscale(img), \"Escala de grises (media)\")\n",
    "\n",
    "histR = histogram_channel(img, 0)\n",
    "print(\"Suma histograma R:\", histR.sum(), \"==\", img.shape[0]*img.shape[1])\n"
   ]
  },
  {
   "cell_type": "markdown",
   "id": "55e72683",
   "metadata": {},
   "source": [
    "---\n",
    "### Siguientes pasos\n",
    "En la próxima práctica:\n",
    "- Convoluciones con distintos kernels (bordes, nitidez).\n",
    "- Reescalado bilineal y rotaciones.\n",
    "- Preparación de tensores para modelos (normalización estándar, *data augmentation*).\n"
   ]
  }
 ],
 "metadata": {
  "authors": [
   {
    "name": "Curso Introducción a la IA — Práctica de Imágenes"
   }
  ],
  "kernelspec": {
   "display_name": "Python 3",
   "language": "python",
   "name": "python3"
  },
  "language_info": {
   "name": "python",
   "version": "3.x"
  }
 },
 "nbformat": 4,
 "nbformat_minor": 5
}
