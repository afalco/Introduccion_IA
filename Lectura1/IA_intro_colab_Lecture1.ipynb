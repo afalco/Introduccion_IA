{
 "cells": [
  {
   "cell_type": "markdown",
   "id": "d3990047",
   "metadata": {},
   "source": [
    "# **Introducción a la IA** — Hoja de **Ejemplos** (Imágenes)\n",
    "**Máster: IA y Fabricación Aditiva**  \n",
    "**Lectura 1** — *Procesado de imagen digital*  \n",
    "**Fecha:** 2025-10-06\n",
    "\n",
    "> Este cuaderno está diseñado para **Google Colab** o local.  \n",
    "> Cambia **1–2 parámetros** en cada bloque ***TRY IT*** y vuelve a ejecutar.\n"
   ]
  },
  {
   "cell_type": "markdown",
   "id": "ab71c5f4",
   "metadata": {},
   "source": [
    "---\n",
    "## 🎯 Objetivos\n",
    "- Entender la representación numérica de imágenes (matrices/tensores).\n",
    "- Manipular regiones (*slicing*), inversiones y trasposición.\n",
    "- Operar con canales RGB, normalización y formatos HWC/CHW.\n",
    "- Implementar reescalado (vecino más cercano) y un filtro de media.\n",
    "- Crear pequeñas modificaciones y observar su efecto inmediato.\n"
   ]
  },
  {
   "cell_type": "code",
   "execution_count": null,
   "id": "7b2b53f5",
   "metadata": {},
   "outputs": [],
   "source": [
    "\n",
    "# === Preparación del entorno ===\n",
    "import numpy as np\n",
    "import matplotlib.pyplot as plt\n",
    "\n",
    "plt.rcParams['figure.dpi'] = 120\n",
    "\n",
    "def show(img, title=None):\n",
    "    plt.figure(figsize=(5,3))\n",
    "    if img.ndim == 2:\n",
    "        plt.imshow(img, cmap='gray', vmin=img.min(), vmax=img.max())\n",
    "    else:\n",
    "        plt.imshow(img)\n",
    "    if title: plt.title(title)\n",
    "    plt.axis('off'); plt.show()\n",
    "\n",
    "print(\"Entorno listo ✔\")\n"
   ]
  },
  {
   "cell_type": "markdown",
   "id": "fcc32529",
   "metadata": {},
   "source": [
    "---\n",
    "## 0) Imagen base (sintética)\n",
    "**TRY IT:** modifica tamaño, radio y degradados. Reejecuta la celda.\n"
   ]
  },
  {
   "cell_type": "code",
   "execution_count": null,
   "id": "bace5a5c",
   "metadata": {},
   "outputs": [],
   "source": [
    "\n",
    "# === PARÁMETROS (modifica) ===\n",
    "H, W = 240, 360\n",
    "circle_radius = 60\n",
    "gradient_R = True    # degradado horizontal\n",
    "gradient_G = True    # degradado vertical\n",
    "gradient_B = False   # sin degradado en B\n",
    "# === FIN PARÁMETROS ===\n",
    "\n",
    "x = np.linspace(0, 1, W)\n",
    "y = np.linspace(0, 1, H)\n",
    "X, Y = np.meshgrid(x, y)\n",
    "\n",
    "R = (X * 255).astype(np.uint8) if gradient_R else np.zeros((H,W), np.uint8)\n",
    "G = (Y * 255).astype(np.uint8) if gradient_G else np.zeros((H,W), np.uint8)\n",
    "B = ((1-X) * 255).astype(np.uint8) if gradient_B else np.zeros((H,W), np.uint8)\n",
    "\n",
    "YY, XX = np.ogrid[:H, :W]\n",
    "mask = (XX - W//2)**2 + (YY - H//2)**2 <= circle_radius**2\n",
    "for C in (R, G, B):\n",
    "    C[mask] = 255\n",
    "\n",
    "img = np.stack([R, G, B], axis=2)  # HWC\n",
    "show(img, \"Imagen base sintética (HWC)\")\n",
    "print(\"img.shape:\", img.shape, \"| dtype:\", img.dtype)\n"
   ]
  },
  {
   "cell_type": "markdown",
   "id": "1839fd00",
   "metadata": {},
   "source": [
    "---\n",
    "## 1) *Slicing* (recortes)\n",
    "**TRY IT:** cambia `y0,y1,x0,x1` y observa el recorte.\n"
   ]
  },
  {
   "cell_type": "code",
   "execution_count": null,
   "id": "0f1ed0d4",
   "metadata": {},
   "outputs": [],
   "source": [
    "\n",
    "# === PARÁMETROS (modifica) ===\n",
    "y0, y1 = 60, 200\n",
    "x0, x1 = 100, 300\n",
    "# === FIN ===\n",
    "\n",
    "crop = img[y0:y1, x0:x1, :]\n",
    "show(crop, f\"Recorte: y[{y0}:{y1}] x[{x0}:{x1}]\")\n"
   ]
  },
  {
   "cell_type": "markdown",
   "id": "047d7d94",
   "metadata": {},
   "source": [
    "---\n",
    "## 2) Inversiones\n",
    "**TRY IT:** activa/desactiva `flip_vertical` y `flip_horizontal`.\n"
   ]
  },
  {
   "cell_type": "code",
   "execution_count": null,
   "id": "3431616b",
   "metadata": {},
   "outputs": [],
   "source": [
    "\n",
    "# === PARÁMETROS (modifica) ===\n",
    "flip_vertical = True\n",
    "flip_horizontal = False\n",
    "# === FIN ===\n",
    "\n",
    "out = img.copy()\n",
    "if flip_vertical:   out = out[::-1, :, :]\n",
    "if flip_horizontal: out = out[:, ::-1, :]\n",
    "show(out, f\"Inversiones - vertical={flip_vertical}, horizontal={flip_horizontal}\")\n"
   ]
  },
  {
   "cell_type": "markdown",
   "id": "57ee218c",
   "metadata": {},
   "source": [
    "---\n",
    "## 3) Trasposición de ejes\n",
    "**TRY IT:** cambia `axes` (por ejemplo `(1,0,2)`).\n"
   ]
  },
  {
   "cell_type": "code",
   "execution_count": null,
   "id": "e9c567e3",
   "metadata": {},
   "outputs": [],
   "source": [
    "\n",
    "# === PARÁMETROS (modifica) ===\n",
    "axes = (1, 0, 2)  # (H,W,C) -> (W,H,C)\n",
    "# === FIN ===\n",
    "\n",
    "img_T = np.transpose(img, axes)\n",
    "show(img_T, f\"Trasposición axes={axes}\")\n",
    "print(\"shape antes:\", img.shape, \" | shape después:\", img_T.shape)\n"
   ]
  },
  {
   "cell_type": "markdown",
   "id": "4abe3d0c",
   "metadata": {},
   "source": [
    "---\n",
    "## 4) Canales RGB\n",
    "**TRY IT:** activa `show_R/G/B` para visualizar por canal.\n"
   ]
  },
  {
   "cell_type": "code",
   "execution_count": null,
   "id": "df5dbc3f",
   "metadata": {},
   "outputs": [],
   "source": [
    "\n",
    "# === PARÁMETROS (modifica) ===\n",
    "show_R, show_G, show_B = True, True, True\n",
    "# === FIN ===\n",
    "\n",
    "if show_R: show(img[...,0], \"Canal R\")\n",
    "if show_G: show(img[...,1], \"Canal G\")\n",
    "if show_B: show(img[...,2], \"Canal B\")\n"
   ]
  },
  {
   "cell_type": "markdown",
   "id": "02a6c370",
   "metadata": {},
   "source": [
    "---\n",
    "## 5) Composición por canales\n",
    "**TRY IT:** asigna canales a mantener (e.g. `\"RB\"`, `\"G\"`, `\"RGB\"`).\n"
   ]
  },
  {
   "cell_type": "code",
   "execution_count": null,
   "id": "856a08f7",
   "metadata": {},
   "outputs": [],
   "source": [
    "\n",
    "# === PARÁMETROS (modifica) ===\n",
    "keep = \"R\"   # opciones: \"R\",\"G\",\"B\",\"RG\",\"RB\",\"GB\",\"RGB\"\n",
    "# === FIN ===\n",
    "\n",
    "out = np.zeros_like(img)\n",
    "if \"R\" in keep: out[...,0] = img[...,0]\n",
    "if \"G\" in keep: out[...,1] = img[...,1]\n",
    "if \"B\" in keep: out[...,2] = img[...,2]\n",
    "show(out, f\"Canales activos: {keep}\")\n"
   ]
  },
  {
   "cell_type": "markdown",
   "id": "ca0fbf5c",
   "metadata": {},
   "source": [
    "---\n",
    "## 6) Normalización [0,1] y factor `alpha`\n",
    "**TRY IT:** cambia `alpha` y observa el efecto.\n"
   ]
  },
  {
   "cell_type": "code",
   "execution_count": null,
   "id": "bcd45c45",
   "metadata": {},
   "outputs": [],
   "source": [
    "\n",
    "# === PARÁMETROS (modifica) ===\n",
    "alpha = 1.0\n",
    "# === FIN ===\n",
    "\n",
    "img_f = img.astype(np.float32) / 255.0\n",
    "img_f = np.clip(img_f * alpha, 0.0, 1.0)\n",
    "show(img_f, f\"Normalizada (alpha={alpha})\")\n",
    "print(img_f.dtype, img_f.min(), img_f.max())\n"
   ]
  },
  {
   "cell_type": "markdown",
   "id": "9f5df0eb",
   "metadata": {},
   "source": [
    "---\n",
    "## 7) HWC ↔ CHW e índice lineal\n",
    "**TRY IT:** cambia `(x,y,c)` y comprueba el índice lineal.\n"
   ]
  },
  {
   "cell_type": "code",
   "execution_count": null,
   "id": "f67d5407",
   "metadata": {},
   "outputs": [],
   "source": [
    "\n",
    "# === PARÁMETROS (modifica) ===\n",
    "x, y, c = 15, 192, 2  # c=0(R),1(G),2(B)\n",
    "# === FIN ===\n",
    "\n",
    "img_chw = np.transpose(img, (2,0,1))  # CHW\n",
    "H_, W_ = img.shape[0], img.shape[1]\n",
    "index = x + y*W_ + c*W_*H_\n",
    "print(\"HWC:\", img.shape, \" | CHW:\", img_chw.shape)\n",
    "print(f\"Índice lineal para (x={x}, y={y}, c={c}) =\", index)\n"
   ]
  },
  {
   "cell_type": "markdown",
   "id": "ab4e33db",
   "metadata": {},
   "source": [
    "---\n",
    "## 8) Reescalado (vecino más cercano)\n",
    "**TRY IT:** cambia `scale` (2, 3, ...).\n"
   ]
  },
  {
   "cell_type": "code",
   "execution_count": null,
   "id": "47f1cf78",
   "metadata": {},
   "outputs": [],
   "source": [
    "\n",
    "# === PARÁMETROS (modifica) ===\n",
    "scale = 2\n",
    "# === FIN ===\n",
    "\n",
    "H2, W2 = img.shape[0]*scale, img.shape[1]*scale\n",
    "up = np.zeros((H2, W2, 3), dtype=img.dtype)\n",
    "for yy in range(H2):\n",
    "    for xx in range(W2):\n",
    "        y_src = yy // scale\n",
    "        x_src = xx // scale\n",
    "        up[yy, xx] = img[y_src, x_src]\n",
    "show(up, f\"Reescalado NN (scale={scale}x)\")\n"
   ]
  },
  {
   "cell_type": "markdown",
   "id": "c6829955",
   "metadata": {},
   "source": [
    "---\n",
    "## 9) Filtro de media k×k (en un canal)\n",
    "**TRY IT:** cambia `channel` y `kernel_size` (impar).\n"
   ]
  },
  {
   "cell_type": "code",
   "execution_count": null,
   "id": "952f4c41",
   "metadata": {},
   "outputs": [],
   "source": [
    "\n",
    "# === PARÁMETROS (modifica) ===\n",
    "channel = 0          # 0=R,1=G,2=B\n",
    "kernel_size = 3      # 3,5,7...\n",
    "# === FIN ===\n",
    "\n",
    "k = kernel_size\n",
    "assert k % 2 == 1, \"Usa tamaño impar (3,5,7,...)\"\n",
    "pad = k // 2\n",
    "\n",
    "C = img[...,channel].astype(np.float32)\n",
    "Hk, Wk = C.shape\n",
    "out = np.zeros_like(C)\n",
    "for i in range(pad, Hk-pad):\n",
    "    for j in range(pad, Wk-pad):\n",
    "        patch = C[i-pad:i+pad+1, j-pad:j+pad+1]\n",
    "        out[i,j] = patch.mean()\n",
    "blur = img.copy()\n",
    "blur[...,channel] = np.clip(out, 0, 255).astype(np.uint8)\n",
    "show(blur, f\"Media {k}×{k} en canal {channel}\")\n"
   ]
  },
  {
   "cell_type": "markdown",
   "id": "ed95b900",
   "metadata": {},
   "source": [
    "---\n",
    "## 10) Grises con pesos\n",
    "**TRY IT:** modifica `wR,wG,wB`.\n"
   ]
  },
  {
   "cell_type": "code",
   "execution_count": null,
   "id": "c4e85356",
   "metadata": {},
   "outputs": [],
   "source": [
    "\n",
    "# === PARÁMETROS (modifica) ===\n",
    "wR, wG, wB = 1/3, 1/3, 1/3    # prueba 0.299, 0.587, 0.114\n",
    "# === FIN ===\n",
    "\n",
    "g = (wR*img[...,0] + wG*img[...,1] + wB*img[...,2]).astype(np.float32)\n",
    "g = g / max(1e-6, (wR+wG+wB))\n",
    "g = np.clip(g, 0, 255).astype(np.uint8)\n",
    "show(g, f\"Grises (wR={wR}, wG={wG}, wB={wB})\")\n"
   ]
  },
  {
   "cell_type": "markdown",
   "id": "e29e5c11",
   "metadata": {},
   "source": [
    "---\n",
    "## 11) Rejilla y píxel marcado\n",
    "**TRY IT:** ajusta `step` y coord. `(px,py)`.\n"
   ]
  },
  {
   "cell_type": "code",
   "execution_count": null,
   "id": "0ed2e57e",
   "metadata": {},
   "outputs": [],
   "source": [
    "\n",
    "# === PARÁMETROS (modifica) ===\n",
    "draw_grid = True; step = 30\n",
    "px, py = 15, 40               # (x,y)\n",
    "color = (255, 0, 0)           # rojo\n",
    "# === FIN ===\n",
    "\n",
    "overlay = img.copy()\n",
    "if draw_grid:\n",
    "    overlay[::step, :, :] = 0\n",
    "    overlay[:, ::step, :] = 0\n",
    "\n",
    "mark = overlay.copy()\n",
    "if 0 <= py < mark.shape[0] and 0 <= px < mark.shape[1]:\n",
    "    mark[py, px] = color\n",
    "show(mark, f\"Grid step={step}, pixel ({px},{py})\")\n"
   ]
  },
  {
   "cell_type": "markdown",
   "id": "f7b8cd42",
   "metadata": {},
   "source": [
    "---\n",
    "## 12) Guardar resultado a disco\n",
    "**TRY IT:** cambia `filename` y el objeto a guardar.\n"
   ]
  },
  {
   "cell_type": "code",
   "execution_count": null,
   "id": "abef15e9",
   "metadata": {},
   "outputs": [],
   "source": [
    "\n",
    "# === PARÁMETROS (modifica) ===\n",
    "filename = \"resultado.png\"\n",
    "image_to_save = img   # prueba con 'g', 'blur', 'mark', etc.\n",
    "# === FIN ===\n",
    "\n",
    "import matplotlib.pyplot as plt\n",
    "plt.imsave(filename, image_to_save)\n",
    "print(\"Guardado:\", filename)\n"
   ]
  }
 ],
 "metadata": {
  "colab": {
   "name": "IA_intro_colab.ipynb",
   "provenance": []
  },
  "kernelspec": {
   "display_name": "Python 3",
   "language": "python",
   "name": "python3"
  },
  "language_info": {
   "name": "python",
   "version": "3.x"
  }
 },
 "nbformat": 4,
 "nbformat_minor": 5
}
